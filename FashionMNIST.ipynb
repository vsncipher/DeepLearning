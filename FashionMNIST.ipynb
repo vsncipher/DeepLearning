{
  "nbformat": 4,
  "nbformat_minor": 0,
  "metadata": {
    "colab": {
      "name": "FashionMNIST.ipynb",
      "version": "0.3.2",
      "provenance": [],
      "collapsed_sections": [],
      "toc_visible": true,
      "include_colab_link": true
    },
    "kernelspec": {
      "name": "python3",
      "display_name": "Python 3"
    }
  },
  "cells": [
    {
      "cell_type": "markdown",
      "metadata": {
        "id": "view-in-github",
        "colab_type": "text"
      },
      "source": [
        "<a href=\"https://colab.research.google.com/github/vsncipher/DeepLearning/blob/master/FashionMNIST.ipynb\" target=\"_parent\"><img src=\"https://colab.research.google.com/assets/colab-badge.svg\" alt=\"Open In Colab\"/></a>"
      ]
    },
    {
      "metadata": {
        "id": "iihcGJRCvWrV",
        "colab_type": "text"
      },
      "cell_type": "markdown",
      "source": [
        "# Fashion MNIST"
      ]
    },
    {
      "metadata": {
        "id": "LzioMKHFw1BU",
        "colab_type": "text"
      },
      "cell_type": "markdown",
      "source": [
        "Import tensorflow and keras"
      ]
    },
    {
      "metadata": {
        "id": "Y2uiY6zdvh0U",
        "colab_type": "code",
        "colab": {}
      },
      "cell_type": "code",
      "source": [
        "import tensorflow as tf\n",
        "from tensorflow import keras"
      ],
      "execution_count": 0,
      "outputs": []
    },
    {
      "metadata": {
        "id": "UZJnm0RSvrn4",
        "colab_type": "text"
      },
      "cell_type": "markdown",
      "source": [
        "*  Import fashion-mnist dataset using keras dataset"
      ]
    },
    {
      "metadata": {
        "id": "JMpXnnlevqdY",
        "colab_type": "code",
        "colab": {}
      },
      "cell_type": "code",
      "source": [
        "fashion_mnist = tf.keras.datasets.fashion_mnist\n",
        "(train_images, train_labels), (test_images, test_labels) = fashion_mnist.load_data()"
      ],
      "execution_count": 0,
      "outputs": []
    },
    {
      "metadata": {
        "id": "GAe6V2FSwhQi",
        "colab_type": "text"
      },
      "cell_type": "markdown",
      "source": [
        "* View one of the traning image"
      ]
    },
    {
      "metadata": {
        "id": "RrxKqztfwgWO",
        "colab_type": "code",
        "colab": {}
      },
      "cell_type": "code",
      "source": [
        "import matplotlib.pyplot as plt\n",
        "plt.imshow(train_images[100])"
      ],
      "execution_count": 0,
      "outputs": []
    }
  ]
}